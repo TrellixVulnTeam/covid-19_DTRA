{
 "cells": [
  {
   "cell_type": "code",
   "execution_count": 11,
   "metadata": {},
   "outputs": [],
   "source": [
    "import pandas as pd\n",
    "from datetime import datetime, timedelta\n",
    "from os import path\n",
    "import glob\n",
    "import matplotlib.pyplot as plt\n",
    "import numpy as np\n",
    "import re"
   ]
  },
  {
   "cell_type": "code",
   "execution_count": 12,
   "metadata": {
    "scrolled": false
   },
   "outputs": [
    {
     "name": "stdout",
     "output_type": "stream",
     "text": [
      "Skipped data/03-23-2020.csv\n",
      "Skipped data/03-22-2020.csv\n",
      "Skipped data/03-21-2020.csv\n",
      "Skipped data/03-20-2020.csv\n",
      "Skipped data/03-19-2020.csv\n",
      "Skipped data/03-18-2020.csv\n",
      "Skipped data/03-17-2020.csv\n",
      "Skipped data/03-16-2020.csv\n",
      "Skipped data/03-15-2020.csv\n",
      "Skipped data/03-14-2020.csv\n",
      "Skipped data/03-13-2020.csv\n",
      "Skipped data/03-12-2020.csv\n",
      "Skipped data/03-11-2020.csv\n",
      "Skipped data/03-10-2020.csv\n",
      "Skipped data/03-09-2020.csv\n",
      "Skipped data/03-08-2020.csv\n",
      "Skipped data/03-07-2020.csv\n",
      "Skipped data/03-06-2020.csv\n",
      "Skipped data/03-05-2020.csv\n",
      "Skipped data/03-04-2020.csv\n",
      "Skipped data/03-03-2020.csv\n",
      "Skipped data/03-02-2020.csv\n",
      "Skipped data/03-01-2020.csv\n",
      "Skipped data/02-29-2020.csv\n",
      "Skipped data/02-28-2020.csv\n",
      "Skipped data/02-27-2020.csv\n",
      "Skipped data/02-26-2020.csv\n",
      "Skipped data/02-25-2020.csv\n",
      "Skipped data/02-24-2020.csv\n",
      "Skipped data/02-23-2020.csv\n",
      "Skipped data/02-22-2020.csv\n",
      "Skipped data/02-21-2020.csv\n",
      "Skipped data/02-20-2020.csv\n",
      "Skipped data/02-19-2020.csv\n",
      "Skipped data/02-18-2020.csv\n",
      "Skipped data/02-17-2020.csv\n",
      "Skipped data/02-16-2020.csv\n",
      "Skipped data/02-15-2020.csv\n",
      "Skipped data/02-14-2020.csv\n",
      "Skipped data/02-13-2020.csv\n",
      "Skipped data/02-12-2020.csv\n",
      "Skipped data/02-11-2020.csv\n",
      "Skipped data/02-10-2020.csv\n",
      "Skipped data/02-09-2020.csv\n",
      "Skipped data/02-08-2020.csv\n",
      "Skipped data/02-07-2020.csv\n",
      "Skipped data/02-06-2020.csv\n",
      "Skipped data/02-05-2020.csv\n",
      "Skipped data/02-04-2020.csv\n",
      "Skipped data/02-03-2020.csv\n",
      "Skipped data/02-02-2020.csv\n",
      "Skipped data/02-01-2020.csv\n",
      "Skipped data/01-31-2020.csv\n",
      "Skipped data/01-30-2020.csv\n",
      "Skipped data/01-29-2020.csv\n",
      "Skipped data/01-28-2020.csv\n",
      "Skipped data/01-27-2020.csv\n",
      "Skipped data/01-26-2020.csv\n",
      "Skipped data/01-25-2020.csv\n",
      "Skipped data/01-24-2020.csv\n",
      "Skipped data/01-23-2020.csv\n",
      "Skipped data/01-22-2020.csv\n"
     ]
    }
   ],
   "source": [
    "date = datetime.today() - timedelta(days = 1)\n",
    "min_date = datetime(year = 2020, month = 1, day = 22)\n",
    "\n",
    "data_dir = \"data\"\n",
    "\n",
    "while date >= min_date:\n",
    "    date_formatted = date.strftime(\"%m-%d-%Y\")\n",
    "    filepath = f\"{data_dir}/{date_formatted}.csv\"\n",
    "    if not path.isfile(filepath):    \n",
    "        url = f\"https://raw.githubusercontent.com/CSSEGISandData/COVID-19/master/csse_covid_19_data/csse_covid_19_daily_reports/{date_formatted}.csv\"\n",
    "        dataframe = pd.read_csv(url)\n",
    "        dataframe.to_csv(filepath, index = False)\n",
    "        print(f\"Saved {filepath}\")\n",
    "    else:\n",
    "        print(f\"Skipped {filepath}\")\n",
    "    date = date - timedelta(days = 1)"
   ]
  },
  {
   "cell_type": "code",
   "execution_count": 15,
   "metadata": {
    "scrolled": false
   },
   "outputs": [],
   "source": [
    "data_files = glob.glob(f\"{data_dir}/*.csv\")\n",
    "\n",
    "daily_dataframes = []\n",
    "p = re.compile(r'(\\d{2}-\\d{2}-\\d{2})')\n",
    "\n",
    "for file in data_files:\n",
    "    daily_dataframe = pd.read_csv(file, parse_dates=[2])\n",
    "    daily_dataframe[\"Last Update\"] = p.search(file).group()\n",
    "#     daily_dataframe = daily_dataframe.rename({\"Last_Update\": \"Last Update\"}, axis=1)\n",
    "    daily_dataframes.append(daily_dataframe)\n",
    "\n",
    "combined_data = pd.concat(daily_dataframes, axis=0, ignore_index=True)\n",
    "combined_data = combined_data.sort_values(by=\"Last Update\", ascending=False)\n",
    "combined_data = combined_data.filter([\"Country/Region\", \"Last Update\", \"Confirmed\", \"Deaths\", \"Recovered\"], axis=1)\n",
    "combined_data[\"Last Update\"] = combined_data[\"Last Update\"].apply(lambda x: datetime.strptime(x, \"%m-%d-%y\"))\n",
    "combined_data[\"Country/Region\"] = combined_data[\"Country/Region\"].replace(\"United Kingdom\", \"UK\")\n",
    "combined_data[\"Country/Region\"] = combined_data[\"Country/Region\"].replace(\"Mainland China\", \"China\")"
   ]
  },
  {
   "cell_type": "code",
   "execution_count": 9,
   "metadata": {
    "scrolled": false
   },
   "outputs": [
    {
     "name": "stdout",
     "output_type": "stream",
     "text": [
      "                            Confirmed  Deaths  Recovered\n",
      "Last Update Country/Region                              \n",
      "2020-03-13  US                 2179.0    47.0       12.0\n",
      "2020-03-14  US                 2726.0    54.0       12.0\n",
      "2020-03-15  US                 3499.0    63.0       12.0\n",
      "2020-03-16  US                 4632.0    85.0       17.0\n",
      "2020-03-17  US                 6421.0   108.0       17.0\n",
      "2020-03-18  US                 7786.0   118.0      106.0\n",
      "2020-03-19  US                13680.0   200.0      108.0\n",
      "2020-03-20  US                19101.0   244.0      147.0\n",
      "2020-03-21  US                25493.0   307.0      171.0\n",
      "2020-03-22  US                33276.0   417.0      178.0\n"
     ]
    },
    {
     "data": {
      "text/plain": [
       "<matplotlib.axes._subplots.AxesSubplot at 0x7f28a3f25048>"
      ]
     },
     "execution_count": 9,
     "metadata": {},
     "output_type": "execute_result"
    },
    {
     "data": {
      "image/png": "[encoded data removed]",
      "text/plain": [
       "<Figure size 720x504 with 1 Axes>"
      ]
     },
     "metadata": {
      "needs_background": "light"
     },
     "output_type": "display_data"
    }
   ],
   "source": [
    "countries_selected = [\"US\"]\n",
    "filtered_data = combined_data[combined_data[\"Country/Region\"].isin(countries_selected)]\n",
    "grouped_data = filtered_data.groupby(by=[\"Last Update\", \"Country/Region\"]).sum()\n",
    "print(grouped_data.tail(10))\n",
    "fig, ax = plt.subplots(figsize=(10,7))\n",
    "clean_data = grouped_data.unstack()\n",
    "clean_data.plot(kind=\"line\", ax=ax)"
   ]
  }
 ],
 "metadata": {
  "kernelspec": {
   "display_name": "Python 3",
   "language": "python",
   "name": "python3"
  },
  "language_info": {
   "codemirror_mode": {
    "name": "ipython",
    "version": 3
   },
   "file_extension": ".py",
   "mimetype": "text/x-python",
   "name": "python",
   "nbconvert_exporter": "python",
   "pygments_lexer": "ipython3",
   "version": "3.6.9"
  }
 },
 "nbformat": 4,
 "nbformat_minor": 4
}
