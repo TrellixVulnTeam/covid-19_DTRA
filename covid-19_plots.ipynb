{
 "cells": [
  {
   "cell_type": "code",
   "execution_count": 63,
   "metadata": {},
   "outputs": [],
   "source": [
    "import pandas as pd\n",
    "from datetime import datetime, timedelta\n",
    "from os import path\n",
    "import glob\n",
    "import matplotlib.pyplot as plt\n",
    "import numpy as np"
   ]
  },
  {
   "cell_type": "code",
   "execution_count": 111,
   "metadata": {
    "scrolled": false
   },
   "outputs": [
    {
     "name": "stdout",
     "output_type": "stream",
     "text": [
      "Skipped data/03-22-2020.csv\n",
      "Skipped data/03-21-2020.csv\n",
      "Skipped data/03-20-2020.csv\n",
      "Skipped data/03-19-2020.csv\n",
      "Skipped data/03-18-2020.csv\n",
      "Skipped data/03-17-2020.csv\n",
      "Skipped data/03-16-2020.csv\n",
      "Skipped data/03-15-2020.csv\n",
      "Skipped data/03-14-2020.csv\n",
      "Skipped data/03-13-2020.csv\n",
      "Skipped data/03-12-2020.csv\n",
      "Skipped data/03-11-2020.csv\n",
      "Skipped data/03-10-2020.csv\n",
      "Skipped data/03-09-2020.csv\n",
      "Skipped data/03-08-2020.csv\n",
      "Skipped data/03-07-2020.csv\n",
      "Skipped data/03-06-2020.csv\n",
      "Skipped data/03-05-2020.csv\n",
      "Skipped data/03-04-2020.csv\n",
      "Skipped data/03-03-2020.csv\n",
      "Skipped data/03-02-2020.csv\n",
      "Skipped data/03-01-2020.csv\n",
      "Skipped data/02-29-2020.csv\n",
      "Skipped data/02-28-2020.csv\n",
      "Skipped data/02-27-2020.csv\n",
      "Skipped data/02-26-2020.csv\n",
      "Skipped data/02-25-2020.csv\n",
      "Skipped data/02-24-2020.csv\n",
      "Skipped data/02-23-2020.csv\n",
      "Skipped data/02-22-2020.csv\n",
      "Skipped data/02-21-2020.csv\n",
      "Skipped data/02-20-2020.csv\n",
      "Skipped data/02-19-2020.csv\n",
      "Skipped data/02-18-2020.csv\n",
      "Skipped data/02-17-2020.csv\n",
      "Skipped data/02-16-2020.csv\n",
      "Skipped data/02-15-2020.csv\n",
      "Skipped data/02-14-2020.csv\n",
      "Skipped data/02-13-2020.csv\n",
      "Skipped data/02-12-2020.csv\n",
      "Skipped data/02-11-2020.csv\n",
      "Skipped data/02-10-2020.csv\n",
      "Skipped data/02-09-2020.csv\n",
      "Skipped data/02-08-2020.csv\n",
      "Skipped data/02-07-2020.csv\n",
      "Skipped data/02-06-2020.csv\n",
      "Skipped data/02-05-2020.csv\n",
      "Skipped data/02-04-2020.csv\n",
      "Skipped data/02-03-2020.csv\n",
      "Skipped data/02-02-2020.csv\n",
      "Skipped data/02-01-2020.csv\n",
      "Skipped data/01-31-2020.csv\n",
      "Skipped data/01-30-2020.csv\n",
      "Skipped data/01-29-2020.csv\n",
      "Skipped data/01-28-2020.csv\n",
      "Skipped data/01-27-2020.csv\n",
      "Skipped data/01-26-2020.csv\n",
      "Skipped data/01-25-2020.csv\n",
      "Skipped data/01-24-2020.csv\n",
      "Skipped data/01-23-2020.csv\n",
      "Skipped data/01-22-2020.csv\n"
     ]
    }
   ],
   "source": [
    "date = datetime.today() - timedelta(days = 1)\n",
    "min_date = datetime(year = 2020, month = 1, day = 22)\n",
    "\n",
    "data_dir = \"data\"\n",
    "\n",
    "while date >= min_date:\n",
    "    date_formatted = date.strftime(\"%m-%d-%Y\")\n",
    "    filepath = f\"{data_dir}/{date_formatted}.csv\"\n",
    "    if not path.isfile(filepath):    \n",
    "        url = f\"https://raw.githubusercontent.com/CSSEGISandData/COVID-19/master/csse_covid_19_data/csse_covid_19_daily_reports/{date_formatted}.csv\"\n",
    "        dataframe = pd.read_csv(url)\n",
    "        dataframe.to_csv(filepath, index = False)\n",
    "        print(f\"Saved {filepath}\")\n",
    "    else:\n",
    "        print(f\"Skipped {filepath}\")\n",
    "    date = date - timedelta(days = 1)"
   ]
  },
  {
   "cell_type": "code",
   "execution_count": 115,
   "metadata": {
    "scrolled": false
   },
   "outputs": [
    {
     "name": "stdout",
     "output_type": "stream",
     "text": [
      "       Province/State Country/Region         Last Update  Confirmed  Deaths  \\\n",
      "2625        Gibraltar             UK 2020-03-22 23:43:03       15.0     0.0   \n",
      "2413   United Kingdom             UK 2020-03-22 22:43:03     5683.0   281.0   \n",
      "2644      Isle of Man             UK 2020-03-22 14:13:08        5.0     0.0   \n",
      "5930  Channel Islands             UK 2020-03-21 21:13:29       32.0     0.0   \n",
      "2592  Channel Islands             UK 2020-03-21 21:13:29       32.0     0.0   \n",
      "\n",
      "      Recovered  \n",
      "2625        2.0  \n",
      "2413       65.0  \n",
      "2644        0.0  \n",
      "5930        0.0  \n",
      "2592        0.0  \n"
     ]
    }
   ],
   "source": [
    "data_files = glob.glob(f\"{data_dir}/*.csv\")\n",
    "\n",
    "daily_dataframes = []\n",
    "\n",
    "for file in data_files:\n",
    "    daily_dataframe = pd.read_csv(file, parse_dates=[2])\n",
    "    daily_dataframes.append(daily_dataframe)\n",
    "\n",
    "combined_data = pd.concat(daily_dataframes, axis=0, ignore_index=True)\n",
    "combined_data = combined_data.sort_values(by=\"Last Update\", ascending=False)\n",
    "combined_data = combined_data.drop([\"Longitude\", \"Latitude\"], axis=1)\n",
    "combined_data[\"Country/Region\"] = combined_data[\"Country/Region\"].replace(\"United Kingdom\", \"UK\")\n",
    "print(combined_data[combined_data[\"Country/Region\"] == \"UK\"].head())"
   ]
  },
  {
   "cell_type": "code",
   "execution_count": 113,
   "metadata": {
    "scrolled": false
   },
   "outputs": [
    {
     "name": "stdout",
     "output_type": "stream",
     "text": [
      "                    Confirmed Deaths Recovered\n",
      "Country/Region             UK     UK        UK\n",
      "Last Update                                   \n",
      "2020-01-31 23:59:00       2.0    0.0       0.0\n",
      "2020-02-01 01:52:00       2.0    0.0       0.0\n",
      "2020-02-01 01:52:40      10.0    0.0       0.0\n",
      "2020-02-07 18:33:02       9.0    0.0       0.0\n",
      "2020-02-10 19:03:02      16.0    0.0       0.0\n",
      "2020-02-12 19:03:06      36.0    0.0       4.0\n",
      "2020-02-16 16:23:06      72.0    0.0      64.0\n",
      "2020-02-24 08:33:02      39.0    0.0      24.0\n",
      "2020-02-27 13:23:02      15.0    0.0       8.0\n",
      "2020-02-28 20:13:09      20.0    0.0       8.0\n",
      "2020-02-29 18:03:05      23.0    0.0       8.0\n",
      "2020-03-01 23:23:02      36.0    0.0       8.0\n",
      "2020-03-02 20:33:02      40.0    0.0       8.0\n",
      "2020-03-03 15:13:26      51.0    0.0       8.0\n",
      "2020-03-04 19:33:03      85.0    0.0       8.0\n",
      "2020-03-05 18:03:03     115.0    1.0       8.0\n",
      "2020-03-06 15:33:03     163.0    2.0       8.0\n",
      "2020-03-07 17:43:05     206.0    2.0      18.0\n",
      "2020-03-08 22:03:10     273.0    3.0      18.0\n",
      "2020-03-09 18:33:03     321.0    4.0      18.0\n",
      "2020-03-10 23:53:02     382.0    6.0      18.0\n",
      "2020-03-11 20:00:00     801.0    8.0      19.0\n",
      "2020-03-11 20:53:02       8.0    0.0       2.0\n",
      "2020-03-11 21:33:03     912.0   16.0      36.0\n",
      "2020-03-14 14:53:04    2280.0   42.0      36.0\n",
      "2020-03-14 16:33:03       3.0    0.0       3.0\n",
      "2020-03-15 18:20:19       3.0    0.0       0.0\n",
      "2020-03-16 14:38:45      18.0    0.0       0.0\n",
      "2020-03-16 14:53:04       3.0    3.0       0.0\n",
      "2020-03-16 19:13:13    1543.0   55.0      20.0\n",
      "2020-03-17 02:53:03       3.0    0.0       1.0\n",
      "2020-03-17 15:13:09    1950.0   55.0      52.0\n",
      "2020-03-18 11:53:04       5.0    0.0       0.0\n",
      "2020-03-18 14:13:42       8.0    0.0       2.0\n",
      "2020-03-18 14:53:05    2626.0   71.0      65.0\n",
      "2020-03-19 02:53:33       4.0    0.0       0.0\n",
      "2020-03-19 17:13:27    2689.0  137.0      65.0\n",
      "2020-03-19 20:13:52      30.0    0.0       6.0\n",
      "2020-03-19 20:13:56      23.0    4.0       0.0\n",
      "2020-03-20 15:13:21       2.0    0.0       0.0\n",
      "2020-03-20 20:13:18    3983.0  177.0      65.0\n",
      "2020-03-20 20:43:03      14.0    0.0       0.0\n",
      "2020-03-21 03:13:14       4.0    0.0       0.0\n",
      "2020-03-21 20:43:03    5018.0  233.0      65.0\n",
      "2020-03-21 21:13:29      64.0    0.0       0.0\n",
      "2020-03-22 14:13:08       5.0    0.0       0.0\n",
      "2020-03-22 22:43:03    5683.0  281.0      65.0\n",
      "2020-03-22 23:43:03      15.0    0.0       2.0\n"
     ]
    },
    {
     "data": {
      "text/plain": [
       "<matplotlib.axes._subplots.AxesSubplot at 0x7f0603404eb8>"
      ]
     },
     "execution_count": 113,
     "metadata": {},
     "output_type": "execute_result"
    },
    {
     "data": {
      "image/png": "[encoded data removed]",
      "text/plain": [
       "<Figure size 720x504 with 1 Axes>"
      ]
     },
     "metadata": {
      "needs_background": "light"
     },
     "output_type": "display_data"
    }
   ],
   "source": [
    "countries_selected = [\"United Kingdom\", \"UK\"]\n",
    "grouped_data = combined_data[combined_data[\"Country/Region\"].isin(countries_selected)].groupby(by=[\"Last Update\", \"Country/Region\"]).sum()\n",
    "fig, ax = plt.subplots(figsize=(10,7))\n",
    "clean_data = grouped_data.unstack()\n",
    "print(clean_data)\n",
    "clean_data.plot(kind=\"line\", ax=ax)"
   ]
  }
 ],
 "metadata": {
  "kernelspec": {
   "display_name": "Python 3",
   "language": "python",
   "name": "python3"
  },
  "language_info": {
   "codemirror_mode": {
    "name": "ipython",
    "version": 3
   },
   "file_extension": ".py",
   "mimetype": "text/x-python",
   "name": "python",
   "nbconvert_exporter": "python",
   "pygments_lexer": "ipython3",
   "version": "3.6.9"
  }
 },
 "nbformat": 4,
 "nbformat_minor": 4
}
