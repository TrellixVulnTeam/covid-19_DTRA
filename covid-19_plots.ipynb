{
 "cells": [
  {
   "cell_type": "code",
   "execution_count": 57,
   "metadata": {},
   "outputs": [],
   "source": [
    "import pandas as pd\n",
    "from datetime import datetime, timedelta\n",
    "from os import path"
   ]
  },
  {
   "cell_type": "code",
   "execution_count": 59,
   "metadata": {
    "scrolled": false
   },
   "outputs": [
    {
     "name": "stdout",
     "output_type": "stream",
     "text": [
      "Skipped data/03-21-2020.csv\n",
      "Skipped data/03-20-2020.csv\n",
      "Skipped data/03-19-2020.csv\n",
      "Skipped data/03-18-2020.csv\n",
      "Skipped data/03-17-2020.csv\n",
      "Skipped data/03-16-2020.csv\n",
      "Skipped data/03-15-2020.csv\n",
      "Skipped data/03-14-2020.csv\n",
      "Skipped data/03-13-2020.csv\n",
      "Skipped data/03-12-2020.csv\n",
      "Skipped data/03-11-2020.csv\n",
      "Skipped data/03-10-2020.csv\n",
      "Skipped data/03-09-2020.csv\n",
      "Skipped data/03-08-2020.csv\n",
      "Skipped data/03-07-2020.csv\n",
      "Skipped data/03-06-2020.csv\n",
      "Skipped data/03-05-2020.csv\n",
      "Skipped data/03-04-2020.csv\n",
      "Skipped data/03-03-2020.csv\n",
      "Skipped data/03-02-2020.csv\n",
      "Skipped data/03-01-2020.csv\n",
      "Skipped data/02-29-2020.csv\n",
      "Skipped data/02-28-2020.csv\n",
      "Skipped data/02-27-2020.csv\n",
      "Skipped data/02-26-2020.csv\n",
      "Skipped data/02-25-2020.csv\n",
      "Skipped data/02-24-2020.csv\n",
      "Skipped data/02-23-2020.csv\n",
      "Skipped data/02-22-2020.csv\n",
      "Skipped data/02-21-2020.csv\n",
      "Skipped data/02-20-2020.csv\n",
      "Skipped data/02-19-2020.csv\n",
      "Skipped data/02-18-2020.csv\n",
      "Skipped data/02-17-2020.csv\n",
      "Skipped data/02-16-2020.csv\n",
      "Skipped data/02-15-2020.csv\n",
      "Skipped data/02-14-2020.csv\n",
      "Skipped data/02-13-2020.csv\n",
      "Skipped data/02-12-2020.csv\n",
      "Skipped data/02-11-2020.csv\n",
      "Skipped data/02-10-2020.csv\n",
      "Skipped data/02-09-2020.csv\n",
      "Skipped data/02-08-2020.csv\n",
      "Skipped data/02-07-2020.csv\n",
      "Skipped data/02-06-2020.csv\n",
      "Skipped data/02-05-2020.csv\n",
      "Skipped data/02-04-2020.csv\n",
      "Skipped data/02-03-2020.csv\n",
      "Skipped data/02-02-2020.csv\n",
      "Skipped data/02-01-2020.csv\n",
      "Skipped data/01-31-2020.csv\n",
      "Skipped data/01-30-2020.csv\n",
      "Skipped data/01-29-2020.csv\n",
      "Skipped data/01-28-2020.csv\n",
      "Skipped data/01-27-2020.csv\n",
      "Skipped data/01-26-2020.csv\n",
      "Skipped data/01-25-2020.csv\n",
      "Skipped data/01-24-2020.csv\n",
      "Skipped data/01-23-2020.csv\n",
      "Skipped data/01-22-2020.csv\n"
     ]
    }
   ],
   "source": [
    "date = datetime.today() - timedelta(days = 1)\n",
    "min_date = datetime(year = 2020, month = 1, day = 22)\n",
    "\n",
    "while date >= min_date:\n",
    "    date_formatted = date.strftime(\"%m-%d-%Y\")\n",
    "    filepath = f\"data/{date_formatted}.csv\"\n",
    "    if not path.isfile(filepath):    \n",
    "        url = f\"https://raw.githubusercontent.com/CSSEGISandData/COVID-19/master/csse_covid_19_data/csse_covid_19_daily_reports/{date_formatted}.csv\"\n",
    "        dataframe = pd.read_csv(url)\n",
    "        dataframe.to_csv(filepath, index = False)\n",
    "        print(f\"Saved {filepath}\")\n",
    "    else:\n",
    "        print(f\"Skipped {filepath}\")\n",
    "    date = date - timedelta(days = 1)    "
   ]
  }
 ],
 "metadata": {
  "kernelspec": {
   "display_name": "Python 3",
   "language": "python",
   "name": "python3"
  },
  "language_info": {
   "codemirror_mode": {
    "name": "ipython",
    "version": 3
   },
   "file_extension": ".py",
   "mimetype": "text/x-python",
   "name": "python",
   "nbconvert_exporter": "python",
   "pygments_lexer": "ipython3",
   "version": "3.6.9"
  }
 },
 "nbformat": 4,
 "nbformat_minor": 4
}
